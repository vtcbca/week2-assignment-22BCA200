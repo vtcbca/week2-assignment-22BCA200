{
 "cells": [
  {
   "cell_type": "code",
   "execution_count": 1,
   "id": "3dead983",
   "metadata": {},
   "outputs": [],
   "source": [
    "import sqlite3 as sq"
   ]
  },
  {
   "cell_type": "code",
   "execution_count": 2,
   "id": "b7e74816",
   "metadata": {},
   "outputs": [],
   "source": [
    "conn=sq.connect('esm.db')"
   ]
  },
  {
   "cell_type": "code",
   "execution_count": 3,
   "id": "089a11ca",
   "metadata": {},
   "outputs": [],
   "source": [
    "q=\"create table if not exists employee(eid int primary key,ename text,dept text,basic int,branch text)\""
   ]
  },
  {
   "cell_type": "code",
   "execution_count": 4,
   "id": "be76e3b2",
   "metadata": {},
   "outputs": [],
   "source": [
    "cur=conn.cursor()"
   ]
  },
  {
   "cell_type": "code",
   "execution_count": 5,
   "id": "3cdda997",
   "metadata": {},
   "outputs": [
    {
     "data": {
      "text/plain": [
       "<sqlite3.Cursor at 0x2a73102e940>"
      ]
     },
     "execution_count": 5,
     "metadata": {},
     "output_type": "execute_result"
    }
   ],
   "source": [
    "cur.execute(q)"
   ]
  },
  {
   "cell_type": "code",
   "execution_count": 6,
   "id": "53032c27",
   "metadata": {},
   "outputs": [],
   "source": [
    "conn.commit()"
   ]
  },
  {
   "cell_type": "code",
   "execution_count": 7,
   "id": "82bb6c58",
   "metadata": {},
   "outputs": [],
   "source": [
    "insert=\"insert into employee values(?,?,?,?,?)\""
   ]
  },
  {
   "cell_type": "code",
   "execution_count": 8,
   "id": "f4bd4048",
   "metadata": {},
   "outputs": [
    {
     "name": "stdout",
     "output_type": "stream",
     "text": [
      "Enter employee id:1\n",
      "Enter employee name:henil\n",
      "Enter employee department:IT\n",
      "Enter employee basic:15000\n",
      "Enter employee branch:surat\n",
      "Enter employee id:2\n",
      "Enter employee name:om\n",
      "Enter employee department:Inventory\n",
      "Enter employee basic:5000\n",
      "Enter employee branch:bardoli\n",
      "Enter employee id:3\n",
      "Enter employee name:neel\n",
      "Enter employee department:HR\n",
      "Enter employee basic:8000\n",
      "Enter employee branch:vyara\n",
      "Enter employee id:4\n",
      "Enter employee name:dhulii\n",
      "Enter employee department:Account\n",
      "Enter employee basic:5500\n",
      "Enter employee branch:surat\n",
      "Enter employee id:5\n",
      "Enter employee name:krutik\n",
      "Enter employee department:IT\n",
      "Enter employee basic:7000\n",
      "Enter employee branch:valod\n"
     ]
    }
   ],
   "source": [
    "l=[]\n",
    "for i in range(5):\n",
    "    eid=int(input(\"Enter employee id:\"))\n",
    "    ename=input(\"Enter employee name:\")\n",
    "    dept=input(\"Enter employee department:\")\n",
    "    basic=int(input(\"Enter employee basic:\"))\n",
    "    branch=input(\"Enter employee branch:\")\n",
    "    t=(eid,ename,dept,basic,branch)\n",
    "    l.append(t)"
   ]
  },
  {
   "cell_type": "code",
   "execution_count": 21,
   "id": "f334c94a",
   "metadata": {},
   "outputs": [
    {
     "data": {
      "text/plain": [
       "<sqlite3.Cursor at 0x2a73102e940>"
      ]
     },
     "execution_count": 21,
     "metadata": {},
     "output_type": "execute_result"
    }
   ],
   "source": [
    "cur.executemany(insert,l)"
   ]
  },
  {
   "cell_type": "code",
   "execution_count": 22,
   "id": "9d8a1663",
   "metadata": {},
   "outputs": [],
   "source": [
    "update=\"update employee set basic=basic+(basic*10/100) where branch='surat'\""
   ]
  },
  {
   "cell_type": "code",
   "execution_count": 23,
   "id": "931b4446",
   "metadata": {},
   "outputs": [
    {
     "data": {
      "text/plain": [
       "<sqlite3.Cursor at 0x2a73102e940>"
      ]
     },
     "execution_count": 23,
     "metadata": {},
     "output_type": "execute_result"
    }
   ],
   "source": [
    "cur.execute(update)"
   ]
  },
  {
   "cell_type": "code",
   "execution_count": 24,
   "id": "9cc268ec",
   "metadata": {},
   "outputs": [],
   "source": [
    "conn.commit()"
   ]
  },
  {
   "cell_type": "code",
   "execution_count": 25,
   "id": "70071032",
   "metadata": {},
   "outputs": [],
   "source": [
    "slect=\"select * from  employee\""
   ]
  },
  {
   "cell_type": "code",
   "execution_count": 26,
   "id": "291f6a10",
   "metadata": {},
   "outputs": [
    {
     "data": {
      "text/plain": [
       "<sqlite3.Cursor at 0x2a73102e940>"
      ]
     },
     "execution_count": 26,
     "metadata": {},
     "output_type": "execute_result"
    }
   ],
   "source": [
    "cur.execute(slect)"
   ]
  },
  {
   "cell_type": "code",
   "execution_count": 27,
   "id": "02e185f9",
   "metadata": {},
   "outputs": [],
   "source": [
    "r=cur.fetchall()"
   ]
  },
  {
   "cell_type": "code",
   "execution_count": 28,
   "id": "b8a01c70",
   "metadata": {},
   "outputs": [
    {
     "name": "stdout",
     "output_type": "stream",
     "text": [
      "[(1, 'henil', 'IT', 16500, 'surat'), (2, 'om', 'Inventory', 5000, 'bardoli'), (3, 'neel', 'HR', 8000, 'vyara'), (4, 'dhulii', 'Account', 6050, 'surat'), (5, 'krutik', 'IT', 7000, 'valod')]\n"
     ]
    }
   ],
   "source": [
    "print(r)"
   ]
  },
  {
   "cell_type": "code",
   "execution_count": 45,
   "id": "32383f27",
   "metadata": {},
   "outputs": [],
   "source": [
    "q=\"select * from employee where dept in ('HR','IT')\""
   ]
  },
  {
   "cell_type": "code",
   "execution_count": 46,
   "id": "07b11d2d",
   "metadata": {},
   "outputs": [
    {
     "data": {
      "text/plain": [
       "<sqlite3.Cursor at 0x2a73102e940>"
      ]
     },
     "execution_count": 46,
     "metadata": {},
     "output_type": "execute_result"
    }
   ],
   "source": [
    "cur.execute(q)"
   ]
  },
  {
   "cell_type": "code",
   "execution_count": 48,
   "id": "df724e5b",
   "metadata": {},
   "outputs": [],
   "source": [
    "r1=cur.fetchall()"
   ]
  },
  {
   "cell_type": "code",
   "execution_count": 49,
   "id": "107a2631",
   "metadata": {},
   "outputs": [
    {
     "name": "stdout",
     "output_type": "stream",
     "text": [
      "[(1, 'henil', 'IT', 16500, 'surat'), (3, 'neel', 'HR', 8000, 'vyara'), (5, 'krutik', 'IT', 7000, 'valod')]\n"
     ]
    }
   ],
   "source": [
    "print(r1)"
   ]
  },
  {
   "cell_type": "code",
   "execution_count": 50,
   "id": "9797c710",
   "metadata": {},
   "outputs": [],
   "source": [
    "q=\"select * from employee order by dept\""
   ]
  },
  {
   "cell_type": "code",
   "execution_count": 51,
   "id": "c3618d04",
   "metadata": {},
   "outputs": [
    {
     "data": {
      "text/plain": [
       "<sqlite3.Cursor at 0x2a73102e940>"
      ]
     },
     "execution_count": 51,
     "metadata": {},
     "output_type": "execute_result"
    }
   ],
   "source": [
    "cur.execute(q)"
   ]
  },
  {
   "cell_type": "code",
   "execution_count": 52,
   "id": "46f9845b",
   "metadata": {},
   "outputs": [],
   "source": [
    "r2=cur.fetchall()"
   ]
  },
  {
   "cell_type": "code",
   "execution_count": 53,
   "id": "724cf194",
   "metadata": {},
   "outputs": [
    {
     "name": "stdout",
     "output_type": "stream",
     "text": [
      "[(4, 'dhulii', 'Account', 6050, 'surat'), (3, 'neel', 'HR', 8000, 'vyara'), (1, 'henil', 'IT', 16500, 'surat'), (5, 'krutik', 'IT', 7000, 'valod'), (2, 'om', 'Inventory', 5000, 'bardoli')]\n"
     ]
    }
   ],
   "source": [
    "print(r2)"
   ]
  },
  {
   "cell_type": "code",
   "execution_count": 54,
   "id": "50e0d07f",
   "metadata": {},
   "outputs": [],
   "source": [
    "conn.commit()"
   ]
  },
  {
   "cell_type": "code",
   "execution_count": 55,
   "id": "5d43d837",
   "metadata": {},
   "outputs": [],
   "source": [
    "q=\"select * from employee where basic>6000\""
   ]
  },
  {
   "cell_type": "code",
   "execution_count": 56,
   "id": "4b6f6414",
   "metadata": {},
   "outputs": [
    {
     "data": {
      "text/plain": [
       "<sqlite3.Cursor at 0x2a73102e940>"
      ]
     },
     "execution_count": 56,
     "metadata": {},
     "output_type": "execute_result"
    }
   ],
   "source": [
    "cur.execute(q)"
   ]
  },
  {
   "cell_type": "code",
   "execution_count": 57,
   "id": "ed6c2f6d",
   "metadata": {},
   "outputs": [],
   "source": [
    "r3=cur.fetchall()"
   ]
  },
  {
   "cell_type": "code",
   "execution_count": 58,
   "id": "3be4cb5d",
   "metadata": {},
   "outputs": [
    {
     "name": "stdout",
     "output_type": "stream",
     "text": [
      "[(1, 'henil', 'IT', 16500, 'surat'), (3, 'neel', 'HR', 8000, 'vyara'), (4, 'dhulii', 'Account', 6050, 'surat'), (5, 'krutik', 'IT', 7000, 'valod')]\n"
     ]
    }
   ],
   "source": [
    "print(r3)"
   ]
  },
  {
   "cell_type": "code",
   "execution_count": 63,
   "id": "0b36b970",
   "metadata": {},
   "outputs": [],
   "source": [
    "q=\"select * from employee where ename like '_r%'\""
   ]
  },
  {
   "cell_type": "code",
   "execution_count": 64,
   "id": "be8c5d0e",
   "metadata": {},
   "outputs": [
    {
     "data": {
      "text/plain": [
       "<sqlite3.Cursor at 0x2a73102e940>"
      ]
     },
     "execution_count": 64,
     "metadata": {},
     "output_type": "execute_result"
    }
   ],
   "source": [
    "cur.execute(q)"
   ]
  },
  {
   "cell_type": "code",
   "execution_count": 65,
   "id": "d9fd16d0",
   "metadata": {},
   "outputs": [],
   "source": [
    "r4=cur.fetchall()"
   ]
  },
  {
   "cell_type": "code",
   "execution_count": 66,
   "id": "bda801cd",
   "metadata": {},
   "outputs": [
    {
     "name": "stdout",
     "output_type": "stream",
     "text": [
      "[(5, 'krutik', 'IT', 7000, 'valod')]\n"
     ]
    }
   ],
   "source": [
    "print(r4)"
   ]
  },
  {
   "cell_type": "code",
   "execution_count": 67,
   "id": "8e0b037f",
   "metadata": {},
   "outputs": [],
   "source": [
    "conn.commit()"
   ]
  },
  {
   "cell_type": "code",
   "execution_count": 80,
   "id": "71706714",
   "metadata": {},
   "outputs": [],
   "source": [
    "q=\"select dept,count(*) as count  from Employee where dept in ('Account','Inventory')\""
   ]
  },
  {
   "cell_type": "code",
   "execution_count": 81,
   "id": "75763672",
   "metadata": {},
   "outputs": [
    {
     "data": {
      "text/plain": [
       "<sqlite3.Cursor at 0x2a73102e940>"
      ]
     },
     "execution_count": 81,
     "metadata": {},
     "output_type": "execute_result"
    }
   ],
   "source": [
    "cur.execute(q)"
   ]
  },
  {
   "cell_type": "code",
   "execution_count": 82,
   "id": "2ad221ce",
   "metadata": {},
   "outputs": [],
   "source": [
    "r5=cur.fetchall()"
   ]
  },
  {
   "cell_type": "code",
   "execution_count": 83,
   "id": "575b7baa",
   "metadata": {},
   "outputs": [
    {
     "name": "stdout",
     "output_type": "stream",
     "text": [
      "[('Inventory', 2)]\n"
     ]
    }
   ],
   "source": [
    "print(r5)"
   ]
  },
  {
   "cell_type": "code",
   "execution_count": 84,
   "id": "af4701d1",
   "metadata": {},
   "outputs": [],
   "source": [
    "q=\"select * from Employee order by branch desc\""
   ]
  },
  {
   "cell_type": "code",
   "execution_count": 85,
   "id": "af80a9c1",
   "metadata": {},
   "outputs": [
    {
     "data": {
      "text/plain": [
       "<sqlite3.Cursor at 0x2a73102e940>"
      ]
     },
     "execution_count": 85,
     "metadata": {},
     "output_type": "execute_result"
    }
   ],
   "source": [
    "cur.execute(q)"
   ]
  },
  {
   "cell_type": "code",
   "execution_count": 86,
   "id": "af9f80e3",
   "metadata": {},
   "outputs": [],
   "source": [
    "r6=cur.fetchall()"
   ]
  },
  {
   "cell_type": "code",
   "execution_count": 87,
   "id": "356f74d2",
   "metadata": {},
   "outputs": [
    {
     "name": "stdout",
     "output_type": "stream",
     "text": [
      "[(3, 'neel', 'HR', 8000, 'vyara'), (5, 'krutik', 'IT', 7000, 'valod'), (1, 'henil', 'IT', 16500, 'surat'), (4, 'dhulii', 'Account', 6050, 'surat'), (2, 'om', 'Inventory', 5000, 'bardoli')]\n"
     ]
    }
   ],
   "source": [
    "print(r6)"
   ]
  },
  {
   "cell_type": "code",
   "execution_count": 88,
   "id": "13bac883",
   "metadata": {},
   "outputs": [],
   "source": [
    "conn.commit()"
   ]
  },
  {
   "cell_type": "code",
   "execution_count": null,
   "id": "d43c08bc",
   "metadata": {},
   "outputs": [],
   "source": []
  }
 ],
 "metadata": {
  "kernelspec": {
   "display_name": "Python 3 (ipykernel)",
   "language": "python",
   "name": "python3"
  },
  "language_info": {
   "codemirror_mode": {
    "name": "ipython",
    "version": 3
   },
   "file_extension": ".py",
   "mimetype": "text/x-python",
   "name": "python",
   "nbconvert_exporter": "python",
   "pygments_lexer": "ipython3",
   "version": "3.11.2"
  }
 },
 "nbformat": 4,
 "nbformat_minor": 5
}
